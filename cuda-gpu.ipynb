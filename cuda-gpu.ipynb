{
 "cells": [
  {
   "cell_type": "code",
   "execution_count": 1,
   "id": "62d6b32f",
   "metadata": {
    "_cell_guid": "b1076dfc-b9ad-4769-8c92-a6c4dae69d19",
    "_uuid": "8f2839f25d086af736a60e9eeb907d3b93b6e0e5",
    "execution": {
     "iopub.execute_input": "2025-02-16T09:51:10.464824Z",
     "iopub.status.busy": "2025-02-16T09:51:10.464512Z",
     "iopub.status.idle": "2025-02-16T09:51:10.468429Z",
     "shell.execute_reply": "2025-02-16T09:51:10.467873Z"
    },
    "papermill": {
     "duration": 0.009546,
     "end_time": "2025-02-16T09:51:10.469651",
     "exception": false,
     "start_time": "2025-02-16T09:51:10.460105",
     "status": "completed"
    },
    "tags": []
   },
   "outputs": [],
   "source": [
    "# # This Python 3 environment comes with many helpful analytics libraries installed\n",
    "# # It is defined by the kaggle/python Docker image: https://github.com/kaggle/docker-python\n",
    "# # For example, here's several helpful packages to load\n",
    "\n",
    "# import numpy as np # linear algebra\n",
    "# import pandas as pd # data processing, CSV file I/O (e.g. pd.read_csv)\n",
    "\n",
    "# # Input data files are available in the read-only \"../input/\" directory\n",
    "# # For example, running this (by clicking run or pressing Shift+Enter) will list all files under the input directory\n",
    "\n",
    "# import os\n",
    "# for dirname, _, filenames in os.walk('/kaggle/input'):\n",
    "#     for filename in filenames:\n",
    "#         print(os.path.join(dirname, filename))\n",
    "\n",
    "# # You can write up to 20GB to the current directory (/kaggle/working/) that gets preserved as output when you create a version using \"Save & Run All\" \n",
    "# # You can also write temporary files to /kaggle/temp/, but they won't be saved outside of the current session"
   ]
  },
  {
   "cell_type": "code",
   "execution_count": 2,
   "id": "b773ee24",
   "metadata": {
    "execution": {
     "iopub.execute_input": "2025-02-16T09:51:10.476421Z",
     "iopub.status.busy": "2025-02-16T09:51:10.476223Z",
     "iopub.status.idle": "2025-02-16T09:52:47.775014Z",
     "shell.execute_reply": "2025-02-16T09:52:47.773915Z"
    },
    "papermill": {
     "duration": 97.305836,
     "end_time": "2025-02-16T09:52:47.778715",
     "exception": false,
     "start_time": "2025-02-16T09:51:10.472879",
     "status": "completed"
    },
    "tags": []
   },
   "outputs": [
    {
     "name": "stdout",
     "output_type": "stream",
     "text": [
      "Python 3.10.12\r\n",
      "nvcc: NVIDIA (R) Cuda compiler driver\r\n",
      "Copyright (c) 2005-2023 NVIDIA Corporation\r\n",
      "Built on Tue_Aug_15_22:02:13_PDT_2023\r\n",
      "Cuda compilation tools, release 12.2, V12.2.140\r\n",
      "Build cuda_12.2.r12.2/compiler.33191640_0\r\n",
      "Collecting nvcc4jupyter\r\n",
      "  Downloading nvcc4jupyter-1.2.1-py3-none-any.whl.metadata (5.1 kB)\r\n",
      "Downloading nvcc4jupyter-1.2.1-py3-none-any.whl (10 kB)\r\n",
      "Installing collected packages: nvcc4jupyter\r\n",
      "Successfully installed nvcc4jupyter-1.2.1\r\n",
      "Detected platform \"Kaggle\". Running its setup...\n",
      "Updating the package lists...\n",
      "Installing nvidia-cuda-toolkit, this may take a few minutes...\n",
      "Source files will be saved in \"/tmp/tmpeuh6k49p\".\n"
     ]
    }
   ],
   "source": [
    "!python --version\n",
    "!nvcc --version\n",
    "!pip install nvcc4jupyter\n",
    "%load_ext nvcc4jupyter"
   ]
  },
  {
   "cell_type": "code",
   "execution_count": 3,
   "id": "78e38951",
   "metadata": {
    "execution": {
     "iopub.execute_input": "2025-02-16T09:52:47.786765Z",
     "iopub.status.busy": "2025-02-16T09:52:47.786497Z",
     "iopub.status.idle": "2025-02-16T09:52:47.903488Z",
     "shell.execute_reply": "2025-02-16T09:52:47.902612Z"
    },
    "papermill": {
     "duration": 0.122523,
     "end_time": "2025-02-16T09:52:47.904987",
     "exception": false,
     "start_time": "2025-02-16T09:52:47.782464",
     "status": "completed"
    },
    "tags": []
   },
   "outputs": [
    {
     "name": "stdout",
     "output_type": "stream",
     "text": [
      "nvcc: NVIDIA (R) Cuda compiler driver\r\n",
      "Copyright (c) 2005-2023 NVIDIA Corporation\r\n",
      "Built on Tue_Aug_15_22:02:13_PDT_2023\r\n",
      "Cuda compilation tools, release 12.2, V12.2.140\r\n",
      "Build cuda_12.2.r12.2/compiler.33191640_0\r\n"
     ]
    }
   ],
   "source": [
    "!nvcc --version"
   ]
  },
  {
   "cell_type": "code",
   "execution_count": 4,
   "id": "c7de9a29",
   "metadata": {
    "execution": {
     "iopub.execute_input": "2025-02-16T09:52:47.913108Z",
     "iopub.status.busy": "2025-02-16T09:52:47.912831Z",
     "iopub.status.idle": "2025-02-16T09:52:48.037676Z",
     "shell.execute_reply": "2025-02-16T09:52:48.036616Z"
    },
    "papermill": {
     "duration": 0.130701,
     "end_time": "2025-02-16T09:52:48.039291",
     "exception": false,
     "start_time": "2025-02-16T09:52:47.908590",
     "status": "completed"
    },
    "tags": []
   },
   "outputs": [
    {
     "name": "stdout",
     "output_type": "stream",
     "text": [
      "Using built-in specs.\r\n",
      "COLLECT_GCC=g++\r\n",
      "COLLECT_LTO_WRAPPER=/usr/lib/gcc/x86_64-linux-gnu/11/lto-wrapper\r\n",
      "OFFLOAD_TARGET_NAMES=nvptx-none:amdgcn-amdhsa\r\n",
      "OFFLOAD_TARGET_DEFAULT=1\r\n",
      "Target: x86_64-linux-gnu\r\n",
      "Configured with: ../src/configure -v --with-pkgversion='Ubuntu 11.4.0-1ubuntu1~22.04' --with-bugurl=file:///usr/share/doc/gcc-11/README.Bugs --enable-languages=c,ada,c++,go,brig,d,fortran,objc,obj-c++,m2 --prefix=/usr --with-gcc-major-version-only --program-suffix=-11 --program-prefix=x86_64-linux-gnu- --enable-shared --enable-linker-build-id --libexecdir=/usr/lib --without-included-gettext --enable-threads=posix --libdir=/usr/lib --enable-nls --enable-bootstrap --enable-clocale=gnu --enable-libstdcxx-debug --enable-libstdcxx-time=yes --with-default-libstdcxx-abi=new --enable-gnu-unique-object --disable-vtable-verify --enable-plugin --enable-default-pie --with-system-zlib --enable-libphobos-checking=release --with-target-system-zlib=auto --enable-objc-gc=auto --enable-multiarch --disable-werror --enable-cet --with-arch-32=i686 --with-abi=m64 --with-multilib-list=m32,m64,mx32 --enable-multilib --with-tune=generic --enable-offload-targets=nvptx-none=/build/gcc-11-XeT9lY/gcc-11-11.4.0/debian/tmp-nvptx/usr,amdgcn-amdhsa=/build/gcc-11-XeT9lY/gcc-11-11.4.0/debian/tmp-gcn/usr --without-cuda-driver --enable-checking=release --build=x86_64-linux-gnu --host=x86_64-linux-gnu --target=x86_64-linux-gnu --with-build-config=bootstrap-lto-lean --enable-link-serialization=2\r\n",
      "Thread model: posix\r\n",
      "Supported LTO compression algorithms: zlib zstd\r\n",
      "gcc version 11.4.0 (Ubuntu 11.4.0-1ubuntu1~22.04) \r\n"
     ]
    }
   ],
   "source": [
    "!g++ -v"
   ]
  },
  {
   "cell_type": "code",
   "execution_count": 5,
   "id": "5f1263d2",
   "metadata": {
    "execution": {
     "iopub.execute_input": "2025-02-16T09:52:48.047332Z",
     "iopub.status.busy": "2025-02-16T09:52:48.047069Z",
     "iopub.status.idle": "2025-02-16T09:52:48.052630Z",
     "shell.execute_reply": "2025-02-16T09:52:48.051933Z"
    },
    "papermill": {
     "duration": 0.010961,
     "end_time": "2025-02-16T09:52:48.053913",
     "exception": false,
     "start_time": "2025-02-16T09:52:48.042952",
     "status": "completed"
    },
    "tags": []
   },
   "outputs": [
    {
     "name": "stdout",
     "output_type": "stream",
     "text": [
      "Writing cpphw.hpp\n"
     ]
    }
   ],
   "source": [
    "%%writefile cpphw.hpp\n",
    "\n",
    "#include <iostream>\n",
    "\n",
    "void printHelloWorld()\n",
    "\n",
    "{\n",
    "\n",
    "std::cout << \"HelloWorld\\nHelloWorld\";\n",
    "\n",
    "}"
   ]
  },
  {
   "cell_type": "code",
   "execution_count": 6,
   "id": "4808ce91",
   "metadata": {
    "execution": {
     "iopub.execute_input": "2025-02-16T09:52:48.062541Z",
     "iopub.status.busy": "2025-02-16T09:52:48.062331Z",
     "iopub.status.idle": "2025-02-16T09:52:48.066815Z",
     "shell.execute_reply": "2025-02-16T09:52:48.065958Z"
    },
    "papermill": {
     "duration": 0.010683,
     "end_time": "2025-02-16T09:52:48.068326",
     "exception": false,
     "start_time": "2025-02-16T09:52:48.057643",
     "status": "completed"
    },
    "tags": []
   },
   "outputs": [
    {
     "name": "stdout",
     "output_type": "stream",
     "text": [
      "Writing cpphw.cpp\n"
     ]
    }
   ],
   "source": [
    "%%writefile cpphw.cpp\n",
    "\n",
    "#include \"cpphw.hpp\"\n",
    "\n",
    "int main()\n",
    "\n",
    "{\n",
    "\n",
    "printHelloWorld();\n",
    "\n",
    "return 0;\n",
    "\n",
    "}"
   ]
  },
  {
   "cell_type": "code",
   "execution_count": 7,
   "id": "6b76b3f5",
   "metadata": {
    "execution": {
     "iopub.execute_input": "2025-02-16T09:52:48.076702Z",
     "iopub.status.busy": "2025-02-16T09:52:48.076459Z",
     "iopub.status.idle": "2025-02-16T09:52:48.195195Z",
     "shell.execute_reply": "2025-02-16T09:52:48.194382Z"
    },
    "papermill": {
     "duration": 0.124406,
     "end_time": "2025-02-16T09:52:48.196652",
     "exception": false,
     "start_time": "2025-02-16T09:52:48.072246",
     "status": "completed"
    },
    "tags": []
   },
   "outputs": [
    {
     "name": "stdout",
     "output_type": "stream",
     "text": [
      "cpphw.cpp  cpphw.hpp  __notebook__.ipynb\r\n"
     ]
    }
   ],
   "source": [
    "ls"
   ]
  },
  {
   "cell_type": "code",
   "execution_count": 8,
   "id": "f03ed2b6",
   "metadata": {
    "execution": {
     "iopub.execute_input": "2025-02-16T09:52:48.204933Z",
     "iopub.status.busy": "2025-02-16T09:52:48.204675Z",
     "iopub.status.idle": "2025-02-16T09:52:48.769933Z",
     "shell.execute_reply": "2025-02-16T09:52:48.769036Z"
    },
    "papermill": {
     "duration": 0.570978,
     "end_time": "2025-02-16T09:52:48.771471",
     "exception": false,
     "start_time": "2025-02-16T09:52:48.200493",
     "status": "completed"
    },
    "tags": []
   },
   "outputs": [
    {
     "name": "stdout",
     "output_type": "stream",
     "text": [
      "HelloWorld\n",
      "HelloWorld"
     ]
    }
   ],
   "source": [
    "%%script bash\n",
    "g++ cpphw.cpp -std=c++11 -o hw.out\n",
    "./hw.out"
   ]
  },
  {
   "cell_type": "code",
   "execution_count": null,
   "id": "17606601",
   "metadata": {
    "papermill": {
     "duration": 0.003805,
     "end_time": "2025-02-16T09:52:48.779305",
     "exception": false,
     "start_time": "2025-02-16T09:52:48.775500",
     "status": "completed"
    },
    "tags": []
   },
   "outputs": [],
   "source": []
  },
  {
   "cell_type": "markdown",
   "id": "d87a0c61",
   "metadata": {
    "papermill": {
     "duration": 0.003598,
     "end_time": "2025-02-16T09:52:48.786912",
     "exception": false,
     "start_time": "2025-02-16T09:52:48.783314",
     "status": "completed"
    },
    "tags": []
   },
   "source": [
    "# Day 1 (16 Feb, 2025)"
   ]
  },
  {
   "cell_type": "code",
   "execution_count": 9,
   "id": "7bcc5913",
   "metadata": {
    "execution": {
     "iopub.execute_input": "2025-02-16T09:52:48.795472Z",
     "iopub.status.busy": "2025-02-16T09:52:48.795229Z",
     "iopub.status.idle": "2025-02-16T09:52:48.800204Z",
     "shell.execute_reply": "2025-02-16T09:52:48.799378Z"
    },
    "papermill": {
     "duration": 0.010656,
     "end_time": "2025-02-16T09:52:48.801438",
     "exception": false,
     "start_time": "2025-02-16T09:52:48.790782",
     "status": "completed"
    },
    "tags": []
   },
   "outputs": [
    {
     "name": "stdout",
     "output_type": "stream",
     "text": [
      "Writing vect_add_cpu.cpp\n"
     ]
    }
   ],
   "source": [
    "%%writefile vect_add_cpu.cpp\n",
    "// Sequential Vector Addition in CPP\n",
    "\n",
    "#include <iostream>\n",
    "#include <vector>\n",
    "#include <ctime>\n",
    "using namespace std;\n",
    "\n",
    "int main(){\n",
    "    clock_t start = clock();\n",
    "    int n = 200000000;\n",
    "    vector<int> A(n), B(n), C(n);\n",
    "    for (int i=0; i<n; i++){\n",
    "        A[i] = i+1;\n",
    "        B[i] = (i+1)*2;\n",
    "    }\n",
    "\n",
    "    for (int i=0;i<n; i++){\n",
    "        C[i] = A[i] + B[i];\n",
    "\n",
    "    }\n",
    "\n",
    "    clock_t end = clock();\n",
    "\n",
    "    double duration = static_cast<double>(end - start) / CLOCKS_PER_SEC; // Time in seconds\n",
    "\n",
    "    std::cout << \"Time taken: \" << duration * 1000 << \" milliseconds\" << std::endl; // Convert to milliseconds\n",
    "\n",
    "    for (int i=0;i <20; i++){\n",
    "        cout << C[i] << \" \";\n",
    "    }\n",
    "    return 0;\n",
    "\n",
    "}"
   ]
  },
  {
   "cell_type": "code",
   "execution_count": 10,
   "id": "3775b256",
   "metadata": {
    "execution": {
     "iopub.execute_input": "2025-02-16T09:52:48.809824Z",
     "iopub.status.busy": "2025-02-16T09:52:48.809585Z",
     "iopub.status.idle": "2025-02-16T09:52:55.205147Z",
     "shell.execute_reply": "2025-02-16T09:52:55.204233Z"
    },
    "papermill": {
     "duration": 6.401285,
     "end_time": "2025-02-16T09:52:55.206545",
     "exception": false,
     "start_time": "2025-02-16T09:52:48.805260",
     "status": "completed"
    },
    "tags": []
   },
   "outputs": [
    {
     "name": "stdout",
     "output_type": "stream",
     "text": [
      "Time taken: 5819.21 milliseconds\n",
      "3 6 9 12 15 18 21 24 27 30 33 36 39 42 45 48 51 54 57 60 "
     ]
    }
   ],
   "source": [
    "%%script bash\n",
    "g++ vect_add_cpu.cpp -std=c++11 -o cpu.out\n",
    "./cpu.out"
   ]
  },
  {
   "cell_type": "code",
   "execution_count": 11,
   "id": "fe70eb5d",
   "metadata": {
    "execution": {
     "iopub.execute_input": "2025-02-16T09:52:55.215497Z",
     "iopub.status.busy": "2025-02-16T09:52:55.215275Z",
     "iopub.status.idle": "2025-02-16T09:52:55.220069Z",
     "shell.execute_reply": "2025-02-16T09:52:55.219059Z"
    },
    "papermill": {
     "duration": 0.010559,
     "end_time": "2025-02-16T09:52:55.221256",
     "exception": false,
     "start_time": "2025-02-16T09:52:55.210697",
     "status": "completed"
    },
    "tags": []
   },
   "outputs": [
    {
     "name": "stdout",
     "output_type": "stream",
     "text": [
      "Writing vect_add_gpu.cu\n"
     ]
    }
   ],
   "source": [
    "%%writefile vect_add_gpu.cu\n",
    "// vector addition on gpu\n",
    "\n",
    "#include <iostream>\n",
    "#include <vector>\n",
    "#include <ctime>\n",
    "#include <cuda_runtime.h>\n",
    "\n",
    "using namespace std;\n",
    "\n",
    "__global__ void vector_addition(int *A, int *B, int *C, int n){\n",
    "    // std::cout << \"blockIdx.x = \" << blockIdx.x << endl ;\n",
    "    // std::cout << \"blockDim.x = \" << blockDim.x << endl ;\n",
    "    // std::cout << \"threadIdx.x = \" << threadIdx.x << endl ;\n",
    "\n",
    "    int i = blockIdx.x * blockDim.x + threadIdx.x;\n",
    "\n",
    "    if (i<n){\n",
    "        C[i] = A[i] + B[i];\n",
    "    }\n",
    "    \n",
    "};\n",
    "\n",
    "int main(){\n",
    "    int n = 200000000;\n",
    "    vector<int> A(n), B(n), C(n);\n",
    "    for (int i=0; i<n; i++){\n",
    "        A[i] = i+1;\n",
    "        B[i] = (i+1)*2;\n",
    "    }\n",
    "\n",
    "    clock_t start = clock();\n",
    "    int *d_A, *d_B, *d_C;\n",
    "    cudaMalloc((void **)&d_A, n*sizeof(int));\n",
    "    cudaMalloc((void **)&d_B, n*sizeof(int));\n",
    "    cudaMalloc((void **)&d_C, n*sizeof(int));\n",
    "\n",
    "    cudaMemcpy(d_A, A.data(), n*sizeof(int), cudaMemcpyHostToDevice);\n",
    "    cudaMemcpy(d_B, B.data(), n*sizeof(int), cudaMemcpyHostToDevice);\n",
    "\n",
    "    int blockSize = 2;\n",
    "    int gridSize = n+blockSize - 1;\n",
    "    \n",
    "    vector_addition <<<gridSize, blockSize>>>(d_A, d_B, d_C, n);\n",
    "    cudaMemcpy(C.data(), d_C, n*sizeof(int), cudaMemcpyDeviceToHost);\n",
    "\n",
    "    clock_t end = clock();\n",
    "\n",
    "    double duration = static_cast<double>(end - start) / CLOCKS_PER_SEC; // Time in seconds\n",
    "\n",
    "    std::cout << \"Time taken: \" << duration * 1000 << \" milliseconds\" << std::endl; // Convert to milliseconds\n",
    "\n",
    "    for (int i=0;i <20; i++){\n",
    "        cout << C[i] << \" \";\n",
    "    }\n",
    "    \n",
    "    return 0;  \n",
    "}\n",
    "\n"
   ]
  },
  {
   "cell_type": "code",
   "execution_count": 12,
   "id": "294b5bdf",
   "metadata": {
    "execution": {
     "iopub.execute_input": "2025-02-16T09:52:55.229813Z",
     "iopub.status.busy": "2025-02-16T09:52:55.229611Z",
     "iopub.status.idle": "2025-02-16T09:53:03.546348Z",
     "shell.execute_reply": "2025-02-16T09:53:03.545385Z"
    },
    "papermill": {
     "duration": 8.32266,
     "end_time": "2025-02-16T09:53:03.547802",
     "exception": false,
     "start_time": "2025-02-16T09:52:55.225142",
     "status": "completed"
    },
    "tags": []
   },
   "outputs": [
    {
     "name": "stdout",
     "output_type": "stream",
     "text": [
      "Time taken: 1033.22 milliseconds\n",
      "3 6 9 12 15 18 21 24 27 30 33 36 39 42 45 48 51 54 57 60 "
     ]
    }
   ],
   "source": [
    "%%script bash\n",
    "nvcc vect_add_gpu.cu -o kernel\n",
    "./kernel"
   ]
  },
  {
   "cell_type": "code",
   "execution_count": null,
   "id": "86b9950b",
   "metadata": {
    "papermill": {
     "duration": 0.003809,
     "end_time": "2025-02-16T09:53:03.555966",
     "exception": false,
     "start_time": "2025-02-16T09:53:03.552157",
     "status": "completed"
    },
    "tags": []
   },
   "outputs": [],
   "source": []
  },
  {
   "cell_type": "code",
   "execution_count": null,
   "id": "5f24fdd6",
   "metadata": {
    "papermill": {
     "duration": 0.003671,
     "end_time": "2025-02-16T09:53:03.563466",
     "exception": false,
     "start_time": "2025-02-16T09:53:03.559795",
     "status": "completed"
    },
    "tags": []
   },
   "outputs": [],
   "source": []
  },
  {
   "cell_type": "code",
   "execution_count": null,
   "id": "71d5d260",
   "metadata": {
    "papermill": {
     "duration": 0.003585,
     "end_time": "2025-02-16T09:53:03.570806",
     "exception": false,
     "start_time": "2025-02-16T09:53:03.567221",
     "status": "completed"
    },
    "tags": []
   },
   "outputs": [],
   "source": []
  },
  {
   "cell_type": "code",
   "execution_count": null,
   "id": "97b54e1f",
   "metadata": {
    "papermill": {
     "duration": 0.003678,
     "end_time": "2025-02-16T09:53:03.578375",
     "exception": false,
     "start_time": "2025-02-16T09:53:03.574697",
     "status": "completed"
    },
    "tags": []
   },
   "outputs": [],
   "source": []
  }
 ],
 "metadata": {
  "kaggle": {
   "accelerator": "nvidiaTeslaT4",
   "dataSources": [],
   "dockerImageVersionId": 30887,
   "isGpuEnabled": true,
   "isInternetEnabled": true,
   "language": "python",
   "sourceType": "notebook"
  },
  "kernelspec": {
   "display_name": "Python 3",
   "language": "python",
   "name": "python3"
  },
  "language_info": {
   "codemirror_mode": {
    "name": "ipython",
    "version": 3
   },
   "file_extension": ".py",
   "mimetype": "text/x-python",
   "name": "python",
   "nbconvert_exporter": "python",
   "pygments_lexer": "ipython3",
   "version": "3.10.12"
  },
  "papermill": {
   "default_parameters": {},
   "duration": 115.968425,
   "end_time": "2025-02-16T09:53:03.899552",
   "environment_variables": {},
   "exception": null,
   "input_path": "__notebook__.ipynb",
   "output_path": "__notebook__.ipynb",
   "parameters": {},
   "start_time": "2025-02-16T09:51:07.931127",
   "version": "2.6.0"
  }
 },
 "nbformat": 4,
 "nbformat_minor": 5
}
