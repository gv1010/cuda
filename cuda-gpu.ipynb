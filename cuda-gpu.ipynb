{
 "cells": [
  {
   "cell_type": "code",
   "execution_count": 1,
   "id": "3679074c",
   "metadata": {
    "_cell_guid": "b1076dfc-b9ad-4769-8c92-a6c4dae69d19",
    "_uuid": "8f2839f25d086af736a60e9eeb907d3b93b6e0e5",
    "execution": {
     "iopub.execute_input": "2025-02-16T08:43:41.375070Z",
     "iopub.status.busy": "2025-02-16T08:43:41.374843Z",
     "iopub.status.idle": "2025-02-16T08:43:42.077730Z",
     "shell.execute_reply": "2025-02-16T08:43:42.077069Z"
    },
    "papermill": {
     "duration": 0.709517,
     "end_time": "2025-02-16T08:43:42.079206",
     "exception": false,
     "start_time": "2025-02-16T08:43:41.369689",
     "status": "completed"
    },
    "tags": []
   },
   "outputs": [],
   "source": [
    "# This Python 3 environment comes with many helpful analytics libraries installed\n",
    "# It is defined by the kaggle/python Docker image: https://github.com/kaggle/docker-python\n",
    "# For example, here's several helpful packages to load\n",
    "\n",
    "import numpy as np # linear algebra\n",
    "import pandas as pd # data processing, CSV file I/O (e.g. pd.read_csv)\n",
    "\n",
    "# Input data files are available in the read-only \"../input/\" directory\n",
    "# For example, running this (by clicking run or pressing Shift+Enter) will list all files under the input directory\n",
    "\n",
    "import os\n",
    "for dirname, _, filenames in os.walk('/kaggle/input'):\n",
    "    for filename in filenames:\n",
    "        print(os.path.join(dirname, filename))\n",
    "\n",
    "# You can write up to 20GB to the current directory (/kaggle/working/) that gets preserved as output when you create a version using \"Save & Run All\" \n",
    "# You can also write temporary files to /kaggle/temp/, but they won't be saved outside of the current session"
   ]
  },
  {
   "cell_type": "code",
   "execution_count": 2,
   "id": "c7376f15",
   "metadata": {
    "execution": {
     "iopub.execute_input": "2025-02-16T08:43:42.084933Z",
     "iopub.status.busy": "2025-02-16T08:43:42.084620Z",
     "iopub.status.idle": "2025-02-16T08:45:39.307492Z",
     "shell.execute_reply": "2025-02-16T08:45:39.306406Z"
    },
    "papermill": {
     "duration": 117.229063,
     "end_time": "2025-02-16T08:45:39.310954",
     "exception": false,
     "start_time": "2025-02-16T08:43:42.081891",
     "status": "completed"
    },
    "tags": []
   },
   "outputs": [
    {
     "name": "stdout",
     "output_type": "stream",
     "text": [
      "Python 3.10.12\r\n",
      "nvcc: NVIDIA (R) Cuda compiler driver\r\n",
      "Copyright (c) 2005-2023 NVIDIA Corporation\r\n",
      "Built on Tue_Aug_15_22:02:13_PDT_2023\r\n",
      "Cuda compilation tools, release 12.2, V12.2.140\r\n",
      "Build cuda_12.2.r12.2/compiler.33191640_0\r\n",
      "Collecting nvcc4jupyter\r\n",
      "  Downloading nvcc4jupyter-1.2.1-py3-none-any.whl.metadata (5.1 kB)\r\n",
      "Downloading nvcc4jupyter-1.2.1-py3-none-any.whl (10 kB)\r\n",
      "Installing collected packages: nvcc4jupyter\r\n",
      "Successfully installed nvcc4jupyter-1.2.1\r\n",
      "Detected platform \"Kaggle\". Running its setup...\n",
      "Updating the package lists...\n",
      "Installing nvidia-cuda-toolkit, this may take a few minutes...\n",
      "Source files will be saved in \"/tmp/tmptff149qg\".\n"
     ]
    }
   ],
   "source": [
    "!python --version\n",
    "!nvcc --version\n",
    "!pip install nvcc4jupyter\n",
    "%load_ext nvcc4jupyter"
   ]
  },
  {
   "cell_type": "code",
   "execution_count": 3,
   "id": "9892168b",
   "metadata": {
    "execution": {
     "iopub.execute_input": "2025-02-16T08:45:39.316958Z",
     "iopub.status.busy": "2025-02-16T08:45:39.316729Z",
     "iopub.status.idle": "2025-02-16T08:45:39.434099Z",
     "shell.execute_reply": "2025-02-16T08:45:39.433354Z"
    },
    "papermill": {
     "duration": 0.121878,
     "end_time": "2025-02-16T08:45:39.435475",
     "exception": false,
     "start_time": "2025-02-16T08:45:39.313597",
     "status": "completed"
    },
    "tags": []
   },
   "outputs": [
    {
     "name": "stdout",
     "output_type": "stream",
     "text": [
      "nvcc: NVIDIA (R) Cuda compiler driver\r\n",
      "Copyright (c) 2005-2023 NVIDIA Corporation\r\n",
      "Built on Tue_Aug_15_22:02:13_PDT_2023\r\n",
      "Cuda compilation tools, release 12.2, V12.2.140\r\n",
      "Build cuda_12.2.r12.2/compiler.33191640_0\r\n"
     ]
    }
   ],
   "source": [
    "!nvcc --version"
   ]
  },
  {
   "cell_type": "code",
   "execution_count": 4,
   "id": "43aebf92",
   "metadata": {
    "execution": {
     "iopub.execute_input": "2025-02-16T08:45:39.441470Z",
     "iopub.status.busy": "2025-02-16T08:45:39.441184Z",
     "iopub.status.idle": "2025-02-16T08:45:39.566611Z",
     "shell.execute_reply": "2025-02-16T08:45:39.565860Z"
    },
    "papermill": {
     "duration": 0.129766,
     "end_time": "2025-02-16T08:45:39.567848",
     "exception": false,
     "start_time": "2025-02-16T08:45:39.438082",
     "status": "completed"
    },
    "tags": []
   },
   "outputs": [
    {
     "name": "stdout",
     "output_type": "stream",
     "text": [
      "Using built-in specs.\r\n",
      "COLLECT_GCC=g++\r\n",
      "COLLECT_LTO_WRAPPER=/usr/lib/gcc/x86_64-linux-gnu/11/lto-wrapper\r\n",
      "OFFLOAD_TARGET_NAMES=nvptx-none:amdgcn-amdhsa\r\n",
      "OFFLOAD_TARGET_DEFAULT=1\r\n",
      "Target: x86_64-linux-gnu\r\n",
      "Configured with: ../src/configure -v --with-pkgversion='Ubuntu 11.4.0-1ubuntu1~22.04' --with-bugurl=file:///usr/share/doc/gcc-11/README.Bugs --enable-languages=c,ada,c++,go,brig,d,fortran,objc,obj-c++,m2 --prefix=/usr --with-gcc-major-version-only --program-suffix=-11 --program-prefix=x86_64-linux-gnu- --enable-shared --enable-linker-build-id --libexecdir=/usr/lib --without-included-gettext --enable-threads=posix --libdir=/usr/lib --enable-nls --enable-bootstrap --enable-clocale=gnu --enable-libstdcxx-debug --enable-libstdcxx-time=yes --with-default-libstdcxx-abi=new --enable-gnu-unique-object --disable-vtable-verify --enable-plugin --enable-default-pie --with-system-zlib --enable-libphobos-checking=release --with-target-system-zlib=auto --enable-objc-gc=auto --enable-multiarch --disable-werror --enable-cet --with-arch-32=i686 --with-abi=m64 --with-multilib-list=m32,m64,mx32 --enable-multilib --with-tune=generic --enable-offload-targets=nvptx-none=/build/gcc-11-XeT9lY/gcc-11-11.4.0/debian/tmp-nvptx/usr,amdgcn-amdhsa=/build/gcc-11-XeT9lY/gcc-11-11.4.0/debian/tmp-gcn/usr --without-cuda-driver --enable-checking=release --build=x86_64-linux-gnu --host=x86_64-linux-gnu --target=x86_64-linux-gnu --with-build-config=bootstrap-lto-lean --enable-link-serialization=2\r\n",
      "Thread model: posix\r\n",
      "Supported LTO compression algorithms: zlib zstd\r\n",
      "gcc version 11.4.0 (Ubuntu 11.4.0-1ubuntu1~22.04) \r\n"
     ]
    }
   ],
   "source": [
    "!g++ -v\n"
   ]
  },
  {
   "cell_type": "code",
   "execution_count": 5,
   "id": "0dfb5c9b",
   "metadata": {
    "execution": {
     "iopub.execute_input": "2025-02-16T08:45:39.573811Z",
     "iopub.status.busy": "2025-02-16T08:45:39.573599Z",
     "iopub.status.idle": "2025-02-16T08:45:39.578560Z",
     "shell.execute_reply": "2025-02-16T08:45:39.577912Z"
    },
    "papermill": {
     "duration": 0.009198,
     "end_time": "2025-02-16T08:45:39.579684",
     "exception": false,
     "start_time": "2025-02-16T08:45:39.570486",
     "status": "completed"
    },
    "tags": []
   },
   "outputs": [
    {
     "name": "stdout",
     "output_type": "stream",
     "text": [
      "Writing cpphw.hpp\n"
     ]
    }
   ],
   "source": [
    "%%writefile cpphw.hpp\n",
    "\n",
    "#include <iostream>\n",
    "\n",
    "void printHelloWorld()\n",
    "\n",
    "{\n",
    "\n",
    "std::cout << \"HelloWorld\\nHelloWorld\";\n",
    "\n",
    "}"
   ]
  },
  {
   "cell_type": "code",
   "execution_count": 6,
   "id": "e7d86d45",
   "metadata": {
    "execution": {
     "iopub.execute_input": "2025-02-16T08:45:39.585577Z",
     "iopub.status.busy": "2025-02-16T08:45:39.585372Z",
     "iopub.status.idle": "2025-02-16T08:45:39.589328Z",
     "shell.execute_reply": "2025-02-16T08:45:39.588679Z"
    },
    "papermill": {
     "duration": 0.00817,
     "end_time": "2025-02-16T08:45:39.590486",
     "exception": false,
     "start_time": "2025-02-16T08:45:39.582316",
     "status": "completed"
    },
    "tags": []
   },
   "outputs": [
    {
     "name": "stdout",
     "output_type": "stream",
     "text": [
      "Writing cpphw.cpp\n"
     ]
    }
   ],
   "source": [
    "%%writefile cpphw.cpp\n",
    "\n",
    "#include \"cpphw.hpp\"\n",
    "\n",
    "int main()\n",
    "\n",
    "{\n",
    "\n",
    "printHelloWorld();\n",
    "\n",
    "return 0;\n",
    "\n",
    "}"
   ]
  },
  {
   "cell_type": "code",
   "execution_count": 7,
   "id": "45396134",
   "metadata": {
    "execution": {
     "iopub.execute_input": "2025-02-16T08:45:39.596512Z",
     "iopub.status.busy": "2025-02-16T08:45:39.596298Z",
     "iopub.status.idle": "2025-02-16T08:45:39.713874Z",
     "shell.execute_reply": "2025-02-16T08:45:39.712895Z"
    },
    "papermill": {
     "duration": 0.122105,
     "end_time": "2025-02-16T08:45:39.715282",
     "exception": false,
     "start_time": "2025-02-16T08:45:39.593177",
     "status": "completed"
    },
    "tags": []
   },
   "outputs": [
    {
     "name": "stdout",
     "output_type": "stream",
     "text": [
      "cpphw.cpp  cpphw.hpp  __notebook__.ipynb\r\n"
     ]
    }
   ],
   "source": [
    "ls"
   ]
  },
  {
   "cell_type": "code",
   "execution_count": 8,
   "id": "ae284b40",
   "metadata": {
    "execution": {
     "iopub.execute_input": "2025-02-16T08:45:39.721410Z",
     "iopub.status.busy": "2025-02-16T08:45:39.721139Z",
     "iopub.status.idle": "2025-02-16T08:45:40.268018Z",
     "shell.execute_reply": "2025-02-16T08:45:40.267236Z"
    },
    "papermill": {
     "duration": 0.551368,
     "end_time": "2025-02-16T08:45:40.269353",
     "exception": false,
     "start_time": "2025-02-16T08:45:39.717985",
     "status": "completed"
    },
    "tags": []
   },
   "outputs": [
    {
     "name": "stdout",
     "output_type": "stream",
     "text": [
      "HelloWorld\n",
      "HelloWorld"
     ]
    }
   ],
   "source": [
    "%%script bash\n",
    "g++ cpphw.cpp -std=c++11 -o hw.out\n",
    "./hw.out"
   ]
  },
  {
   "cell_type": "code",
   "execution_count": null,
   "id": "4b0e6551",
   "metadata": {
    "execution": {
     "iopub.execute_input": "2025-02-11T05:08:20.073552Z",
     "iopub.status.busy": "2025-02-11T05:08:20.073198Z",
     "iopub.status.idle": "2025-02-11T05:08:20.079019Z",
     "shell.execute_reply": "2025-02-11T05:08:20.077992Z",
     "shell.execute_reply.started": "2025-02-11T05:08:20.073522Z"
    },
    "papermill": {
     "duration": 0.002767,
     "end_time": "2025-02-16T08:45:40.275235",
     "exception": false,
     "start_time": "2025-02-16T08:45:40.272468",
     "status": "completed"
    },
    "tags": []
   },
   "outputs": [],
   "source": []
  },
  {
   "cell_type": "code",
   "execution_count": null,
   "id": "b774ed47",
   "metadata": {
    "papermill": {
     "duration": 0.00262,
     "end_time": "2025-02-16T08:45:40.280621",
     "exception": false,
     "start_time": "2025-02-16T08:45:40.278001",
     "status": "completed"
    },
    "tags": []
   },
   "outputs": [],
   "source": []
  }
 ],
 "metadata": {
  "kaggle": {
   "accelerator": "nvidiaTeslaT4",
   "dataSources": [],
   "dockerImageVersionId": 30887,
   "isGpuEnabled": true,
   "isInternetEnabled": true,
   "language": "python",
   "sourceType": "notebook"
  },
  "kernelspec": {
   "display_name": "Python 3",
   "language": "python",
   "name": "python3"
  },
  "language_info": {
   "codemirror_mode": {
    "name": "ipython",
    "version": 3
   },
   "file_extension": ".py",
   "mimetype": "text/x-python",
   "name": "python",
   "nbconvert_exporter": "python",
   "pygments_lexer": "ipython3",
   "version": "3.10.12"
  },
  "papermill": {
   "default_parameters": {},
   "duration": 121.987081,
   "end_time": "2025-02-16T08:45:40.700192",
   "environment_variables": {},
   "exception": null,
   "input_path": "__notebook__.ipynb",
   "output_path": "__notebook__.ipynb",
   "parameters": {},
   "start_time": "2025-02-16T08:43:38.713111",
   "version": "2.6.0"
  }
 },
 "nbformat": 4,
 "nbformat_minor": 5
}
