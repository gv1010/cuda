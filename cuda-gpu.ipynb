{
 "cells": [
  {
   "cell_type": "code",
   "execution_count": 1,
   "id": "229977b0",
   "metadata": {
    "_cell_guid": "b1076dfc-b9ad-4769-8c92-a6c4dae69d19",
    "_uuid": "8f2839f25d086af736a60e9eeb907d3b93b6e0e5",
    "execution": {
     "iopub.execute_input": "2025-02-16T11:00:07.901627Z",
     "iopub.status.busy": "2025-02-16T11:00:07.901302Z",
     "iopub.status.idle": "2025-02-16T11:00:07.906949Z",
     "shell.execute_reply": "2025-02-16T11:00:07.906177Z"
    },
    "papermill": {
     "duration": 0.012883,
     "end_time": "2025-02-16T11:00:07.908449",
     "exception": false,
     "start_time": "2025-02-16T11:00:07.895566",
     "status": "completed"
    },
    "tags": []
   },
   "outputs": [],
   "source": [
    "# # This Python 3 environment comes with many helpful analytics libraries installed\n",
    "# # It is defined by the kaggle/python Docker image: https://github.com/kaggle/docker-python\n",
    "# # For example, here's several helpful packages to load\n",
    "\n",
    "# import numpy as np # linear algebra\n",
    "# import pandas as pd # data processing, CSV file I/O (e.g. pd.read_csv)\n",
    "\n",
    "# # Input data files are available in the read-only \"../input/\" directory\n",
    "# # For example, running this (by clicking run or pressing Shift+Enter) will list all files under the input directory\n",
    "\n",
    "# import os\n",
    "# for dirname, _, filenames in os.walk('/kaggle/input'):\n",
    "#     for filename in filenames:\n",
    "#         print(os.path.join(dirname, filename))\n",
    "\n",
    "# # You can write up to 20GB to the current directory (/kaggle/working/) that gets preserved as output when you create a version using \"Save & Run All\" \n",
    "# # You can also write temporary files to /kaggle/temp/, but they won't be saved outside of the current session"
   ]
  },
  {
   "cell_type": "code",
   "execution_count": 2,
   "id": "45966db1",
   "metadata": {
    "execution": {
     "iopub.execute_input": "2025-02-16T11:00:07.917584Z",
     "iopub.status.busy": "2025-02-16T11:00:07.917269Z",
     "iopub.status.idle": "2025-02-16T11:02:06.784990Z",
     "shell.execute_reply": "2025-02-16T11:02:06.783800Z"
    },
    "papermill": {
     "duration": 118.876998,
     "end_time": "2025-02-16T11:02:06.789598",
     "exception": false,
     "start_time": "2025-02-16T11:00:07.912600",
     "status": "completed"
    },
    "tags": []
   },
   "outputs": [
    {
     "name": "stdout",
     "output_type": "stream",
     "text": [
      "Python 3.10.12\r\n",
      "nvcc: NVIDIA (R) Cuda compiler driver\r\n",
      "Copyright (c) 2005-2023 NVIDIA Corporation\r\n",
      "Built on Tue_Aug_15_22:02:13_PDT_2023\r\n",
      "Cuda compilation tools, release 12.2, V12.2.140\r\n",
      "Build cuda_12.2.r12.2/compiler.33191640_0\r\n",
      "Collecting nvcc4jupyter\r\n",
      "  Downloading nvcc4jupyter-1.2.1-py3-none-any.whl.metadata (5.1 kB)\r\n",
      "Downloading nvcc4jupyter-1.2.1-py3-none-any.whl (10 kB)\r\n",
      "Installing collected packages: nvcc4jupyter\r\n",
      "Successfully installed nvcc4jupyter-1.2.1\r\n",
      "Detected platform \"Kaggle\". Running its setup...\n",
      "Updating the package lists...\n",
      "Installing nvidia-cuda-toolkit, this may take a few minutes...\n",
      "Source files will be saved in \"/tmp/tmpp41asqrm\".\n"
     ]
    }
   ],
   "source": [
    "!python --version\n",
    "!nvcc --version\n",
    "!pip install nvcc4jupyter\n",
    "%load_ext nvcc4jupyter"
   ]
  },
  {
   "cell_type": "code",
   "execution_count": 3,
   "id": "8bb902de",
   "metadata": {
    "execution": {
     "iopub.execute_input": "2025-02-16T11:02:06.799121Z",
     "iopub.status.busy": "2025-02-16T11:02:06.798779Z",
     "iopub.status.idle": "2025-02-16T11:02:06.919294Z",
     "shell.execute_reply": "2025-02-16T11:02:06.918032Z"
    },
    "papermill": {
     "duration": 0.127256,
     "end_time": "2025-02-16T11:02:06.921140",
     "exception": false,
     "start_time": "2025-02-16T11:02:06.793884",
     "status": "completed"
    },
    "tags": []
   },
   "outputs": [
    {
     "name": "stdout",
     "output_type": "stream",
     "text": [
      "nvcc: NVIDIA (R) Cuda compiler driver\r\n",
      "Copyright (c) 2005-2023 NVIDIA Corporation\r\n",
      "Built on Tue_Aug_15_22:02:13_PDT_2023\r\n",
      "Cuda compilation tools, release 12.2, V12.2.140\r\n",
      "Build cuda_12.2.r12.2/compiler.33191640_0\r\n"
     ]
    }
   ],
   "source": [
    "!nvcc --version"
   ]
  },
  {
   "cell_type": "code",
   "execution_count": 4,
   "id": "c36d8dc7",
   "metadata": {
    "execution": {
     "iopub.execute_input": "2025-02-16T11:02:06.931136Z",
     "iopub.status.busy": "2025-02-16T11:02:06.930833Z",
     "iopub.status.idle": "2025-02-16T11:02:07.068520Z",
     "shell.execute_reply": "2025-02-16T11:02:07.067480Z"
    },
    "papermill": {
     "duration": 0.144445,
     "end_time": "2025-02-16T11:02:07.070199",
     "exception": false,
     "start_time": "2025-02-16T11:02:06.925754",
     "status": "completed"
    },
    "tags": []
   },
   "outputs": [
    {
     "name": "stdout",
     "output_type": "stream",
     "text": [
      "Using built-in specs.\r\n",
      "COLLECT_GCC=g++\r\n",
      "COLLECT_LTO_WRAPPER=/usr/lib/gcc/x86_64-linux-gnu/11/lto-wrapper\r\n",
      "OFFLOAD_TARGET_NAMES=nvptx-none:amdgcn-amdhsa\r\n",
      "OFFLOAD_TARGET_DEFAULT=1\r\n",
      "Target: x86_64-linux-gnu\r\n",
      "Configured with: ../src/configure -v --with-pkgversion='Ubuntu 11.4.0-1ubuntu1~22.04' --with-bugurl=file:///usr/share/doc/gcc-11/README.Bugs --enable-languages=c,ada,c++,go,brig,d,fortran,objc,obj-c++,m2 --prefix=/usr --with-gcc-major-version-only --program-suffix=-11 --program-prefix=x86_64-linux-gnu- --enable-shared --enable-linker-build-id --libexecdir=/usr/lib --without-included-gettext --enable-threads=posix --libdir=/usr/lib --enable-nls --enable-bootstrap --enable-clocale=gnu --enable-libstdcxx-debug --enable-libstdcxx-time=yes --with-default-libstdcxx-abi=new --enable-gnu-unique-object --disable-vtable-verify --enable-plugin --enable-default-pie --with-system-zlib --enable-libphobos-checking=release --with-target-system-zlib=auto --enable-objc-gc=auto --enable-multiarch --disable-werror --enable-cet --with-arch-32=i686 --with-abi=m64 --with-multilib-list=m32,m64,mx32 --enable-multilib --with-tune=generic --enable-offload-targets=nvptx-none=/build/gcc-11-XeT9lY/gcc-11-11.4.0/debian/tmp-nvptx/usr,amdgcn-amdhsa=/build/gcc-11-XeT9lY/gcc-11-11.4.0/debian/tmp-gcn/usr --without-cuda-driver --enable-checking=release --build=x86_64-linux-gnu --host=x86_64-linux-gnu --target=x86_64-linux-gnu --with-build-config=bootstrap-lto-lean --enable-link-serialization=2\r\n",
      "Thread model: posix\r\n",
      "Supported LTO compression algorithms: zlib zstd\r\n",
      "gcc version 11.4.0 (Ubuntu 11.4.0-1ubuntu1~22.04) \r\n"
     ]
    }
   ],
   "source": [
    "!g++ -v"
   ]
  },
  {
   "cell_type": "code",
   "execution_count": 5,
   "id": "8246b916",
   "metadata": {
    "execution": {
     "iopub.execute_input": "2025-02-16T11:02:07.079198Z",
     "iopub.status.busy": "2025-02-16T11:02:07.078914Z",
     "iopub.status.idle": "2025-02-16T11:02:07.084880Z",
     "shell.execute_reply": "2025-02-16T11:02:07.084116Z"
    },
    "papermill": {
     "duration": 0.011574,
     "end_time": "2025-02-16T11:02:07.086125",
     "exception": false,
     "start_time": "2025-02-16T11:02:07.074551",
     "status": "completed"
    },
    "tags": []
   },
   "outputs": [
    {
     "name": "stdout",
     "output_type": "stream",
     "text": [
      "Writing cpphw.hpp\n"
     ]
    }
   ],
   "source": [
    "%%writefile cpphw.hpp\n",
    "\n",
    "#include <iostream>\n",
    "\n",
    "void printHelloWorld()\n",
    "\n",
    "{\n",
    "\n",
    "std::cout << \"HelloWorld\\nHelloWorld\";\n",
    "\n",
    "}"
   ]
  },
  {
   "cell_type": "code",
   "execution_count": 6,
   "id": "8c5be38b",
   "metadata": {
    "execution": {
     "iopub.execute_input": "2025-02-16T11:02:07.094558Z",
     "iopub.status.busy": "2025-02-16T11:02:07.094351Z",
     "iopub.status.idle": "2025-02-16T11:02:07.098301Z",
     "shell.execute_reply": "2025-02-16T11:02:07.097626Z"
    },
    "papermill": {
     "duration": 0.00964,
     "end_time": "2025-02-16T11:02:07.099453",
     "exception": false,
     "start_time": "2025-02-16T11:02:07.089813",
     "status": "completed"
    },
    "tags": []
   },
   "outputs": [
    {
     "name": "stdout",
     "output_type": "stream",
     "text": [
      "Writing cpphw.cpp\n"
     ]
    }
   ],
   "source": [
    "%%writefile cpphw.cpp\n",
    "\n",
    "#include \"cpphw.hpp\"\n",
    "\n",
    "int main()\n",
    "\n",
    "{\n",
    "\n",
    "printHelloWorld();\n",
    "\n",
    "return 0;\n",
    "\n",
    "}"
   ]
  },
  {
   "cell_type": "code",
   "execution_count": 7,
   "id": "c9bd0e12",
   "metadata": {
    "execution": {
     "iopub.execute_input": "2025-02-16T11:02:07.107768Z",
     "iopub.status.busy": "2025-02-16T11:02:07.107548Z",
     "iopub.status.idle": "2025-02-16T11:02:07.233386Z",
     "shell.execute_reply": "2025-02-16T11:02:07.232047Z"
    },
    "papermill": {
     "duration": 0.131885,
     "end_time": "2025-02-16T11:02:07.235238",
     "exception": false,
     "start_time": "2025-02-16T11:02:07.103353",
     "status": "completed"
    },
    "tags": []
   },
   "outputs": [
    {
     "name": "stdout",
     "output_type": "stream",
     "text": [
      "cpphw.cpp  cpphw.hpp  __notebook__.ipynb\r\n"
     ]
    }
   ],
   "source": [
    "ls"
   ]
  },
  {
   "cell_type": "code",
   "execution_count": 8,
   "id": "997e3b7c",
   "metadata": {
    "execution": {
     "iopub.execute_input": "2025-02-16T11:02:07.245309Z",
     "iopub.status.busy": "2025-02-16T11:02:07.244991Z",
     "iopub.status.idle": "2025-02-16T11:02:08.205203Z",
     "shell.execute_reply": "2025-02-16T11:02:08.204484Z"
    },
    "papermill": {
     "duration": 0.966685,
     "end_time": "2025-02-16T11:02:08.206586",
     "exception": false,
     "start_time": "2025-02-16T11:02:07.239901",
     "status": "completed"
    },
    "tags": []
   },
   "outputs": [
    {
     "name": "stdout",
     "output_type": "stream",
     "text": [
      "HelloWorld\n",
      "HelloWorld"
     ]
    }
   ],
   "source": [
    "%%script bash\n",
    "g++ cpphw.cpp -std=c++11 -o hw.out\n",
    "./hw.out"
   ]
  },
  {
   "cell_type": "code",
   "execution_count": null,
   "id": "49b9eb49",
   "metadata": {
    "papermill": {
     "duration": 0.004118,
     "end_time": "2025-02-16T11:02:08.214784",
     "exception": false,
     "start_time": "2025-02-16T11:02:08.210666",
     "status": "completed"
    },
    "tags": []
   },
   "outputs": [],
   "source": []
  },
  {
   "cell_type": "markdown",
   "id": "48e62665",
   "metadata": {
    "papermill": {
     "duration": 0.003654,
     "end_time": "2025-02-16T11:02:08.222506",
     "exception": false,
     "start_time": "2025-02-16T11:02:08.218852",
     "status": "completed"
    },
    "tags": []
   },
   "source": [
    "# Day 1 (16 Feb, 2025)"
   ]
  },
  {
   "cell_type": "code",
   "execution_count": 9,
   "id": "d4bee401",
   "metadata": {
    "execution": {
     "iopub.execute_input": "2025-02-16T11:02:08.230997Z",
     "iopub.status.busy": "2025-02-16T11:02:08.230765Z",
     "iopub.status.idle": "2025-02-16T11:02:08.235601Z",
     "shell.execute_reply": "2025-02-16T11:02:08.234869Z"
    },
    "papermill": {
     "duration": 0.010221,
     "end_time": "2025-02-16T11:02:08.236701",
     "exception": false,
     "start_time": "2025-02-16T11:02:08.226480",
     "status": "completed"
    },
    "tags": []
   },
   "outputs": [
    {
     "name": "stdout",
     "output_type": "stream",
     "text": [
      "Writing vect_add_cpu.cpp\n"
     ]
    }
   ],
   "source": [
    "%%writefile vect_add_cpu.cpp\n",
    "// Sequential Vector Addition in CPP\n",
    "\n",
    "#include <iostream>\n",
    "#include <vector>\n",
    "#include <ctime>\n",
    "using namespace std;\n",
    "\n",
    "int main(){\n",
    "    clock_t start = clock();\n",
    "    int n = 200000000;\n",
    "    vector<int> A(n), B(n), C(n);\n",
    "    for (int i=0; i<n; i++){\n",
    "        A[i] = i+1;\n",
    "        B[i] = (i+1)*2;\n",
    "    }\n",
    "\n",
    "    for (int i=0;i<n; i++){\n",
    "        C[i] = A[i] + B[i];\n",
    "\n",
    "    }\n",
    "\n",
    "    clock_t end = clock();\n",
    "\n",
    "    double duration = static_cast<double>(end - start) / CLOCKS_PER_SEC; // Time in seconds\n",
    "\n",
    "    std::cout << \"Time taken: \" << duration * 1000 << \" milliseconds\" << std::endl; // Convert to milliseconds\n",
    "\n",
    "    for (int i=0;i <20; i++){\n",
    "        cout << C[i] << \" \";\n",
    "    }\n",
    "    return 0;\n",
    "\n",
    "}"
   ]
  },
  {
   "cell_type": "code",
   "execution_count": 10,
   "id": "4098a8cf",
   "metadata": {
    "execution": {
     "iopub.execute_input": "2025-02-16T11:02:08.245264Z",
     "iopub.status.busy": "2025-02-16T11:02:08.245015Z",
     "iopub.status.idle": "2025-02-16T11:02:15.107402Z",
     "shell.execute_reply": "2025-02-16T11:02:15.106219Z"
    },
    "papermill": {
     "duration": 6.868706,
     "end_time": "2025-02-16T11:02:15.109293",
     "exception": false,
     "start_time": "2025-02-16T11:02:08.240587",
     "status": "completed"
    },
    "tags": []
   },
   "outputs": [
    {
     "name": "stdout",
     "output_type": "stream",
     "text": [
      "Time taken: 6220.41 milliseconds\n",
      "3 6 9 12 15 18 21 24 27 30 33 36 39 42 45 48 51 54 57 60 "
     ]
    }
   ],
   "source": [
    "%%script bash\n",
    "g++ vect_add_cpu.cpp -std=c++11 -o cpu.out\n",
    "./cpu.out"
   ]
  },
  {
   "cell_type": "code",
   "execution_count": 11,
   "id": "8aef9eb7",
   "metadata": {
    "execution": {
     "iopub.execute_input": "2025-02-16T11:02:15.120864Z",
     "iopub.status.busy": "2025-02-16T11:02:15.120521Z",
     "iopub.status.idle": "2025-02-16T11:02:15.126482Z",
     "shell.execute_reply": "2025-02-16T11:02:15.125404Z"
    },
    "papermill": {
     "duration": 0.013573,
     "end_time": "2025-02-16T11:02:15.128184",
     "exception": false,
     "start_time": "2025-02-16T11:02:15.114611",
     "status": "completed"
    },
    "tags": []
   },
   "outputs": [
    {
     "name": "stdout",
     "output_type": "stream",
     "text": [
      "Writing vect_add_gpu.cu\n"
     ]
    }
   ],
   "source": [
    "%%writefile vect_add_gpu.cu\n",
    "// vector addition on gpu\n",
    "\n",
    "#include <iostream>\n",
    "#include <vector>\n",
    "#include <ctime>\n",
    "#include <cuda_runtime.h>\n",
    "\n",
    "using namespace std;\n",
    "\n",
    "__global__ void vector_addition(int *A, int *B, int *C, int n){\n",
    "    // std::cout << \"blockIdx.x = \" << blockIdx.x << endl ;\n",
    "    // std::cout << \"blockDim.x = \" << blockDim.x << endl ;\n",
    "    // std::cout << \"threadIdx.x = \" << threadIdx.x << endl ;\n",
    "\n",
    "    int i = blockIdx.x * blockDim.x + threadIdx.x;\n",
    "\n",
    "    if (i<n){\n",
    "        C[i] = A[i] + B[i];\n",
    "    }\n",
    "    \n",
    "};\n",
    "\n",
    "int main(){\n",
    "    int n = 200000000;\n",
    "    vector<int> A(n), B(n), C(n);\n",
    "    for (int i=0; i<n; i++){\n",
    "        A[i] = i+1;\n",
    "        B[i] = (i+1)*2;\n",
    "    }\n",
    "\n",
    "    clock_t start = clock();\n",
    "    int *d_A, *d_B, *d_C;\n",
    "    cudaMalloc((void **)&d_A, n*sizeof(int));\n",
    "    cudaMalloc((void **)&d_B, n*sizeof(int));\n",
    "    cudaMalloc((void **)&d_C, n*sizeof(int));\n",
    "\n",
    "    cudaMemcpy(d_A, A.data(), n*sizeof(int), cudaMemcpyHostToDevice);\n",
    "    cudaMemcpy(d_B, B.data(), n*sizeof(int), cudaMemcpyHostToDevice);\n",
    "\n",
    "    int blockSize = 2;\n",
    "    int gridSize = n+blockSize - 1;\n",
    "    \n",
    "    vector_addition <<<gridSize, blockSize>>>(d_A, d_B, d_C, n);\n",
    "    cudaMemcpy(C.data(), d_C, n*sizeof(int), cudaMemcpyDeviceToHost);\n",
    "\n",
    "    clock_t end = clock();\n",
    "\n",
    "    double duration = static_cast<double>(end - start) / CLOCKS_PER_SEC; // Time in seconds\n",
    "\n",
    "    std::cout << \"Time taken: \" << duration * 1000 << \" milliseconds\" << std::endl; // Convert to milliseconds\n",
    "\n",
    "    for (int i=0;i <20; i++){\n",
    "        cout << C[i] << \" \";\n",
    "    }\n",
    "    \n",
    "    return 0;  \n",
    "}\n",
    "\n"
   ]
  },
  {
   "cell_type": "code",
   "execution_count": 12,
   "id": "76799c73",
   "metadata": {
    "execution": {
     "iopub.execute_input": "2025-02-16T11:02:15.139212Z",
     "iopub.status.busy": "2025-02-16T11:02:15.138852Z",
     "iopub.status.idle": "2025-02-16T11:02:24.862837Z",
     "shell.execute_reply": "2025-02-16T11:02:24.861833Z"
    },
    "papermill": {
     "duration": 9.731282,
     "end_time": "2025-02-16T11:02:24.864516",
     "exception": false,
     "start_time": "2025-02-16T11:02:15.133234",
     "status": "completed"
    },
    "tags": []
   },
   "outputs": [
    {
     "name": "stdout",
     "output_type": "stream",
     "text": [
      "Time taken: 1047.47 milliseconds\n",
      "3 6 9 12 15 18 21 24 27 30 33 36 39 42 45 48 51 54 57 60 "
     ]
    }
   ],
   "source": [
    "%%script bash\n",
    "nvcc vect_add_gpu.cu -o kernel\n",
    "./kernel"
   ]
  },
  {
   "cell_type": "markdown",
   "id": "9c013db5",
   "metadata": {
    "papermill": {
     "duration": 0.004605,
     "end_time": "2025-02-16T11:02:24.874147",
     "exception": false,
     "start_time": "2025-02-16T11:02:24.869542",
     "status": "completed"
    },
    "tags": []
   },
   "source": [
    "# Notes:\n",
    "* Gird Dimension: gridDim.x, gridDim.y, gridDim.z is the number of blocks in each direction of Grid.\n",
    "* Block Dimension: blockDim.x, blockDim.y, blockDim.z, is the number of threads in each direction of block.\n",
    "* Block Index: blockIdx.x[y,z], index of the block within the grid\n",
    "* Thread Index: threadIdx.x[y,z], index of thread within a block\n",
    "  \n",
    "**threadId =**\n",
    "\n",
    "**blockDim.x\\*blockIdx.x + blockDim.x\\*threadIdx.y + threadIdx.x (simple 2D within a block)** +\n",
    "  \n",
    "**gridDim.x\\*blockDim.y\\*blockIdx.y (blocks of threads in previous row)**\n"
   ]
  },
  {
   "cell_type": "code",
   "execution_count": null,
   "id": "b38b3fc9",
   "metadata": {
    "papermill": {
     "duration": 0.004678,
     "end_time": "2025-02-16T11:02:24.883486",
     "exception": false,
     "start_time": "2025-02-16T11:02:24.878808",
     "status": "completed"
    },
    "tags": []
   },
   "outputs": [],
   "source": []
  },
  {
   "cell_type": "code",
   "execution_count": null,
   "id": "100e9518",
   "metadata": {
    "papermill": {
     "duration": 0.004686,
     "end_time": "2025-02-16T11:02:24.893231",
     "exception": false,
     "start_time": "2025-02-16T11:02:24.888545",
     "status": "completed"
    },
    "tags": []
   },
   "outputs": [],
   "source": []
  },
  {
   "cell_type": "code",
   "execution_count": null,
   "id": "849d4c51",
   "metadata": {
    "papermill": {
     "duration": 0.004485,
     "end_time": "2025-02-16T11:02:24.902577",
     "exception": false,
     "start_time": "2025-02-16T11:02:24.898092",
     "status": "completed"
    },
    "tags": []
   },
   "outputs": [],
   "source": []
  },
  {
   "cell_type": "code",
   "execution_count": null,
   "id": "7651d243",
   "metadata": {
    "papermill": {
     "duration": 0.004435,
     "end_time": "2025-02-16T11:02:24.911741",
     "exception": false,
     "start_time": "2025-02-16T11:02:24.907306",
     "status": "completed"
    },
    "tags": []
   },
   "outputs": [],
   "source": []
  }
 ],
 "metadata": {
  "kaggle": {
   "accelerator": "nvidiaTeslaT4",
   "dataSources": [],
   "dockerImageVersionId": 30887,
   "isGpuEnabled": true,
   "isInternetEnabled": true,
   "language": "python",
   "sourceType": "notebook"
  },
  "kernelspec": {
   "display_name": "Python 3",
   "language": "python",
   "name": "python3"
  },
  "language_info": {
   "codemirror_mode": {
    "name": "ipython",
    "version": 3
   },
   "file_extension": ".py",
   "mimetype": "text/x-python",
   "name": "python",
   "nbconvert_exporter": "python",
   "pygments_lexer": "ipython3",
   "version": "3.10.12"
  },
  "papermill": {
   "default_parameters": {},
   "duration": 141.402728,
   "end_time": "2025-02-16T11:02:25.335387",
   "environment_variables": {},
   "exception": null,
   "input_path": "__notebook__.ipynb",
   "output_path": "__notebook__.ipynb",
   "parameters": {},
   "start_time": "2025-02-16T11:00:03.932659",
   "version": "2.6.0"
  }
 },
 "nbformat": 4,
 "nbformat_minor": 5
}
